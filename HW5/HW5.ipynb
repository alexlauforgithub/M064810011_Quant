{
 "cells": [
  {
   "cell_type": "markdown",
   "metadata": {},
   "source": [
    "## 先測試看看可不可以work，再寫成函式"
   ]
  },
  {
   "cell_type": "code",
   "execution_count": 104,
   "metadata": {
    "collapsed": true
   },
   "outputs": [],
   "source": [
    "import requests\n",
    "url=\"http://finance.google.com/finance/historical\"\n",
    "params={}\n",
    "params['q']='AAPL'\n",
    "params['startdate']='2015-01-01'\n",
    "params['enddate']='2017-01-01'\n",
    "params['output']='csv'\n",
    "\n",
    "r=requests.get(url,params=params).content"
   ]
  },
  {
   "cell_type": "code",
   "execution_count": 105,
   "metadata": {
    "collapsed": true
   },
   "outputs": [],
   "source": [
    "import pandas as pd\n",
    "import io\n",
    "data=pd.read_csv(io.StringIO(r.decode('utf-8')))"
   ]
  },
  {
   "cell_type": "code",
   "execution_count": 106,
   "metadata": {},
   "outputs": [
    {
     "data": {
      "text/html": [
       "<div>\n",
       "<style>\n",
       "    .dataframe thead tr:only-child th {\n",
       "        text-align: right;\n",
       "    }\n",
       "\n",
       "    .dataframe thead th {\n",
       "        text-align: left;\n",
       "    }\n",
       "\n",
       "    .dataframe tbody tr th {\n",
       "        vertical-align: top;\n",
       "    }\n",
       "</style>\n",
       "<table border=\"1\" class=\"dataframe\">\n",
       "  <thead>\n",
       "    <tr style=\"text-align: right;\">\n",
       "      <th></th>\n",
       "      <th>Date</th>\n",
       "      <th>Open</th>\n",
       "      <th>High</th>\n",
       "      <th>Low</th>\n",
       "      <th>Close</th>\n",
       "      <th>Volume</th>\n",
       "    </tr>\n",
       "  </thead>\n",
       "  <tbody>\n",
       "    <tr>\n",
       "      <th>0</th>\n",
       "      <td>30-Dec-16</td>\n",
       "      <td>116.65</td>\n",
       "      <td>117.20</td>\n",
       "      <td>115.43</td>\n",
       "      <td>115.82</td>\n",
       "      <td>30586265</td>\n",
       "    </tr>\n",
       "    <tr>\n",
       "      <th>1</th>\n",
       "      <td>29-Dec-16</td>\n",
       "      <td>116.45</td>\n",
       "      <td>117.11</td>\n",
       "      <td>116.40</td>\n",
       "      <td>116.73</td>\n",
       "      <td>15039519</td>\n",
       "    </tr>\n",
       "    <tr>\n",
       "      <th>2</th>\n",
       "      <td>28-Dec-16</td>\n",
       "      <td>117.52</td>\n",
       "      <td>118.02</td>\n",
       "      <td>116.20</td>\n",
       "      <td>116.76</td>\n",
       "      <td>20905892</td>\n",
       "    </tr>\n",
       "    <tr>\n",
       "      <th>3</th>\n",
       "      <td>27-Dec-16</td>\n",
       "      <td>116.52</td>\n",
       "      <td>117.80</td>\n",
       "      <td>116.49</td>\n",
       "      <td>117.26</td>\n",
       "      <td>18296855</td>\n",
       "    </tr>\n",
       "    <tr>\n",
       "      <th>4</th>\n",
       "      <td>23-Dec-16</td>\n",
       "      <td>115.59</td>\n",
       "      <td>116.52</td>\n",
       "      <td>115.59</td>\n",
       "      <td>116.52</td>\n",
       "      <td>14249484</td>\n",
       "    </tr>\n",
       "  </tbody>\n",
       "</table>\n",
       "</div>"
      ],
      "text/plain": [
       "        Date    Open    High     Low   Close    Volume\n",
       "0  30-Dec-16  116.65  117.20  115.43  115.82  30586265\n",
       "1  29-Dec-16  116.45  117.11  116.40  116.73  15039519\n",
       "2  28-Dec-16  117.52  118.02  116.20  116.76  20905892\n",
       "3  27-Dec-16  116.52  117.80  116.49  117.26  18296855\n",
       "4  23-Dec-16  115.59  116.52  115.59  116.52  14249484"
      ]
     },
     "execution_count": 106,
     "metadata": {},
     "output_type": "execute_result"
    }
   ],
   "source": [
    "data.head()"
   ]
  },
  {
   "cell_type": "markdown",
   "metadata": {},
   "source": [
    "## Q1 寫成函式囉，設計有報錯功能"
   ]
  },
  {
   "cell_type": "code",
   "execution_count": 107,
   "metadata": {
    "collapsed": true
   },
   "outputs": [],
   "source": [
    "def MyGoodleReader(symbol,startdate,enddate):\n",
    "    import pandas as pd\n",
    "    import io\n",
    "    import requests\n",
    "    url=\"http://finance.google.com/finance/historical\"\n",
    "    params={}\n",
    "    params['q']=symbol\n",
    "    params['startdate']=startdate\n",
    "    params['enddate']=enddate\n",
    "    params['output']='csv'\n",
    "    r=requests.get(url,params=params)\n",
    "    if r.status_code == 200:\n",
    "        r=r.content\n",
    "        data=pd.read_csv(io.StringIO(r.decode('utf-8')))\n",
    "        return data\n",
    "    else:\n",
    "        print(\"ERROR\")\n",
    "    "
   ]
  },
  {
   "cell_type": "code",
   "execution_count": 108,
   "metadata": {},
   "outputs": [
    {
     "data": {
      "text/html": [
       "<div>\n",
       "<style>\n",
       "    .dataframe thead tr:only-child th {\n",
       "        text-align: right;\n",
       "    }\n",
       "\n",
       "    .dataframe thead th {\n",
       "        text-align: left;\n",
       "    }\n",
       "\n",
       "    .dataframe tbody tr th {\n",
       "        vertical-align: top;\n",
       "    }\n",
       "</style>\n",
       "<table border=\"1\" class=\"dataframe\">\n",
       "  <thead>\n",
       "    <tr style=\"text-align: right;\">\n",
       "      <th></th>\n",
       "      <th>Date</th>\n",
       "      <th>Open</th>\n",
       "      <th>High</th>\n",
       "      <th>Low</th>\n",
       "      <th>Close</th>\n",
       "      <th>Volume</th>\n",
       "    </tr>\n",
       "  </thead>\n",
       "  <tbody>\n",
       "    <tr>\n",
       "      <th>0</th>\n",
       "      <td>29-Sep-17</td>\n",
       "      <td>153.21</td>\n",
       "      <td>154.13</td>\n",
       "      <td>152.00</td>\n",
       "      <td>154.12</td>\n",
       "      <td>26299810</td>\n",
       "    </tr>\n",
       "    <tr>\n",
       "      <th>1</th>\n",
       "      <td>28-Sep-17</td>\n",
       "      <td>153.89</td>\n",
       "      <td>154.28</td>\n",
       "      <td>152.70</td>\n",
       "      <td>153.28</td>\n",
       "      <td>22005455</td>\n",
       "    </tr>\n",
       "    <tr>\n",
       "      <th>2</th>\n",
       "      <td>27-Sep-17</td>\n",
       "      <td>153.80</td>\n",
       "      <td>154.72</td>\n",
       "      <td>153.54</td>\n",
       "      <td>154.23</td>\n",
       "      <td>25182779</td>\n",
       "    </tr>\n",
       "    <tr>\n",
       "      <th>3</th>\n",
       "      <td>26-Sep-17</td>\n",
       "      <td>151.78</td>\n",
       "      <td>153.92</td>\n",
       "      <td>151.69</td>\n",
       "      <td>153.14</td>\n",
       "      <td>36660045</td>\n",
       "    </tr>\n",
       "    <tr>\n",
       "      <th>4</th>\n",
       "      <td>25-Sep-17</td>\n",
       "      <td>149.99</td>\n",
       "      <td>151.83</td>\n",
       "      <td>149.16</td>\n",
       "      <td>150.55</td>\n",
       "      <td>44387336</td>\n",
       "    </tr>\n",
       "  </tbody>\n",
       "</table>\n",
       "</div>"
      ],
      "text/plain": [
       "        Date    Open    High     Low   Close    Volume\n",
       "0  29-Sep-17  153.21  154.13  152.00  154.12  26299810\n",
       "1  28-Sep-17  153.89  154.28  152.70  153.28  22005455\n",
       "2  27-Sep-17  153.80  154.72  153.54  154.23  25182779\n",
       "3  26-Sep-17  151.78  153.92  151.69  153.14  36660045\n",
       "4  25-Sep-17  149.99  151.83  149.16  150.55  44387336"
      ]
     },
     "execution_count": 108,
     "metadata": {},
     "output_type": "execute_result"
    }
   ],
   "source": [
    "CanItWork=MyGoodleReader('AAPL','2014-01-01','2017-10-01')\n",
    "CanItWork.head()"
   ]
  },
  {
   "cell_type": "code",
   "execution_count": 109,
   "metadata": {},
   "outputs": [
    {
     "name": "stdout",
     "output_type": "stream",
     "text": [
      "ERROR\n"
     ]
    }
   ],
   "source": [
    "CanItWorkAgain=MyGoodleReader('AAAA','2014-01-01','2017-10-01')"
   ]
  },
  {
   "cell_type": "markdown",
   "metadata": {},
   "source": [
    "## Q2 抓取台股股價"
   ]
  },
  {
   "cell_type": "markdown",
   "metadata": {},
   "source": [
    "### 想法1（日後實現）利用證交所資料處理，麻煩，但是正確穩定\n"
   ]
  },
  {
   "cell_type": "markdown",
   "metadata": {},
   "source": [
    "http://www.twse.com.tw/exchangeReport/STOCK_DAY?response=csv&date=20171207&stockNo=2330\n",
    "#### 這個URL可以抓取台積電單月的股價csv\n",
    "#### 如果可以清洗出數據部分，然後利用迴圈抓取並合併，應該可行"
   ]
  },
  {
   "cell_type": "code",
   "execution_count": 114,
   "metadata": {
    "scrolled": true
   },
   "outputs": [
    {
     "name": "stdout",
     "output_type": "stream",
     "text": [
      "\"106年12月 2330 台積電           各日成交資訊\"\r\n",
      "\"日期\",\"成交股數\",\"成交金額\",\"開盤價\",\"最高價\",\"最低價\",\"收盤價\",\"漲跌價差\",\"成交筆數\",\r\n",
      "\"106/12/01\",\"38,356,265\",\"8,830,392,980\",\"228.50\",\"233.50\",\"227.50\",\"231.00\",\"+5.00\",\"17,632\",\r\n",
      "\"106/12/04\",\"22,939,032\",\"5,347,622,547\",\"232.50\",\"234.50\",\"231.00\",\"234.00\",\"+3.00\",\"7,763\",\r\n",
      "\"106/12/05\",\"30,189,765\",\"6,938,661,754\",\"231.00\",\"231.00\",\"228.50\",\"229.50\",\"-4.50\",\"11,202\",\r\n",
      "\"106/12/06\",\"34,031,690\",\"7,752,572,207\",\"228.00\",\"229.50\",\"226.50\",\"227.00\",\"-2.50\",\"10,749\",\r\n",
      "\"說明:\"\r\n",
      "\"符號說明:+/-/X表示漲/跌/不比價\"\r\n",
      "\"當日統計資訊含一般、零股、盤後定價、鉅額交易，不含拍賣、標購。\"\r\n",
      "\"ETF證券代號第六碼為K、M、S、C者，表示該ETF以外幣交易。\"\r\n",
      "\r\n",
      "\n"
     ]
    }
   ],
   "source": [
    "url='http://www.twse.com.tw/exchangeReport/STOCK_DAY?response=csv&date=20171207&stockNo=2330'\n",
    "r=requests.get(url)\n",
    "print(r.text)"
   ]
  },
  {
   "cell_type": "markdown",
   "metadata": {},
   "source": [
    "### 想法2 用yahoo fin，不穩定，但是很簡單很快\n",
    "\n"
   ]
  },
  {
   "cell_type": "code",
   "execution_count": 4,
   "metadata": {
    "collapsed": true
   },
   "outputs": [],
   "source": [
    "import pandas_datareader.data as web\n",
    "import matplotlib.pyplot as plt\n",
    "from datetime import datetime"
   ]
  },
  {
   "cell_type": "code",
   "execution_count": 5,
   "metadata": {
    "collapsed": true
   },
   "outputs": [],
   "source": [
    "df = web.DataReader('2330.TW', 'yahoo',datetime(2017, 2, 14))"
   ]
  },
  {
   "cell_type": "code",
   "execution_count": 6,
   "metadata": {},
   "outputs": [
    {
     "data": {
      "text/html": [
       "<div>\n",
       "<style>\n",
       "    .dataframe thead tr:only-child th {\n",
       "        text-align: right;\n",
       "    }\n",
       "\n",
       "    .dataframe thead th {\n",
       "        text-align: left;\n",
       "    }\n",
       "\n",
       "    .dataframe tbody tr th {\n",
       "        vertical-align: top;\n",
       "    }\n",
       "</style>\n",
       "<table border=\"1\" class=\"dataframe\">\n",
       "  <thead>\n",
       "    <tr style=\"text-align: right;\">\n",
       "      <th></th>\n",
       "      <th>Open</th>\n",
       "      <th>High</th>\n",
       "      <th>Low</th>\n",
       "      <th>Close</th>\n",
       "      <th>Adj Close</th>\n",
       "      <th>Volume</th>\n",
       "    </tr>\n",
       "    <tr>\n",
       "      <th>Date</th>\n",
       "      <th></th>\n",
       "      <th></th>\n",
       "      <th></th>\n",
       "      <th></th>\n",
       "      <th></th>\n",
       "      <th></th>\n",
       "    </tr>\n",
       "  </thead>\n",
       "  <tbody>\n",
       "    <tr>\n",
       "      <th>2017-02-13</th>\n",
       "      <td>NaN</td>\n",
       "      <td>NaN</td>\n",
       "      <td>NaN</td>\n",
       "      <td>NaN</td>\n",
       "      <td>NaN</td>\n",
       "      <td>NaN</td>\n",
       "    </tr>\n",
       "    <tr>\n",
       "      <th>2017-02-14</th>\n",
       "      <td>189.0</td>\n",
       "      <td>190.0</td>\n",
       "      <td>187.5</td>\n",
       "      <td>187.5</td>\n",
       "      <td>181.451614</td>\n",
       "      <td>45696000.0</td>\n",
       "    </tr>\n",
       "    <tr>\n",
       "      <th>2017-02-15</th>\n",
       "      <td>187.0</td>\n",
       "      <td>189.5</td>\n",
       "      <td>186.5</td>\n",
       "      <td>189.0</td>\n",
       "      <td>182.903229</td>\n",
       "      <td>39347000.0</td>\n",
       "    </tr>\n",
       "    <tr>\n",
       "      <th>2017-02-16</th>\n",
       "      <td>190.0</td>\n",
       "      <td>190.5</td>\n",
       "      <td>188.0</td>\n",
       "      <td>189.0</td>\n",
       "      <td>182.903229</td>\n",
       "      <td>27018000.0</td>\n",
       "    </tr>\n",
       "    <tr>\n",
       "      <th>2017-02-17</th>\n",
       "      <td>190.0</td>\n",
       "      <td>190.5</td>\n",
       "      <td>189.0</td>\n",
       "      <td>189.5</td>\n",
       "      <td>183.387100</td>\n",
       "      <td>20389000.0</td>\n",
       "    </tr>\n",
       "  </tbody>\n",
       "</table>\n",
       "</div>"
      ],
      "text/plain": [
       "             Open   High    Low  Close   Adj Close      Volume\n",
       "Date                                                          \n",
       "2017-02-13    NaN    NaN    NaN    NaN         NaN         NaN\n",
       "2017-02-14  189.0  190.0  187.5  187.5  181.451614  45696000.0\n",
       "2017-02-15  187.0  189.5  186.5  189.0  182.903229  39347000.0\n",
       "2017-02-16  190.0  190.5  188.0  189.0  182.903229  27018000.0\n",
       "2017-02-17  190.0  190.5  189.0  189.5  183.387100  20389000.0"
      ]
     },
     "execution_count": 6,
     "metadata": {},
     "output_type": "execute_result"
    }
   ],
   "source": [
    "df.head()"
   ]
  },
  {
   "cell_type": "markdown",
   "metadata": {},
   "source": [
    "### 來畫圖\n",
    "https://zhuanlan.zhihu.com/p/29519040\n",
    "### 這個畫得很不錯，日後研究（老師的也很棒）"
   ]
  },
  {
   "cell_type": "code",
   "execution_count": 7,
   "metadata": {
    "collapsed": true
   },
   "outputs": [],
   "source": [
    "import kchart as kt"
   ]
  },
  {
   "cell_type": "code",
   "execution_count": 8,
   "metadata": {},
   "outputs": [
    {
     "data": {
      "image/png": "[encoded data removed]",
      "text/plain": [
       "<matplotlib.figure.Figure at 0x10e457828>"
      ]
     },
     "metadata": {},
     "output_type": "display_data"
    }
   ],
   "source": [
    "kt.draw(df,\"2330\")"
   ]
  },
  {
   "cell_type": "code",
   "execution_count": null,
   "metadata": {
    "collapsed": true
   },
   "outputs": [],
   "source": []
  }
 ],
 "metadata": {
  "kernelspec": {
   "display_name": "Python 3",
   "language": "python",
   "name": "python3"
  },
  "language_info": {
   "codemirror_mode": {
    "name": "ipython",
    "version": 3
   },
   "file_extension": ".py",
   "mimetype": "text/x-python",
   "name": "python",
   "nbconvert_exporter": "python",
   "pygments_lexer": "ipython3",
   "version": "3.6.3"
  }
 },
 "nbformat": 4,
 "nbformat_minor": 2
}
