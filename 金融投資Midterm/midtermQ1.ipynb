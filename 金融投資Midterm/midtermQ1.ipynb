{
 "cells": [
  {
   "cell_type": "markdown",
   "metadata": {},
   "source": [
    "# MIDterm Q1\n",
    "## 慰勞老師辛勞，請您吃霜淇淋"
   ]
  },
  {
   "cell_type": "code",
   "execution_count": 67,
   "metadata": {},
   "outputs": [
    {
     "name": "stdout",
     "output_type": "stream",
     "text": [
      "           .\n",
      "          ***\n",
      "         .....\n",
      "        *******\n",
      "       .........\n",
      "      ***********\n",
      "     .............\n",
      "    ***************\n",
      "   .................\n",
      "    xxxxxxxxxxxxxxx\n",
      "     ooooooooooooo\n",
      "      xxxxxxxxxxx\n",
      "       ooooooooo\n",
      "        xxxxxxx\n",
      "         ooooo\n",
      "          xxx\n",
      "           o\n"
     ]
    }
   ],
   "source": [
    "a=range(1,x)\n",
    "b=list(range(1,(x-1)))\n",
    "b.reverse()\n",
    "for i in a:\n",
    "    if (i % 2) == 0:\n",
    "        print(' '*(x-i+1),\"*\"*(i*2-1))\n",
    "    else:\n",
    "        print(' '*(x-i+1),\".\"*(i*2-1))\n",
    "for j in b:\n",
    "    if (j % 2) == 0:\n",
    "        print(' '*(x-j+1),\"x\"*(j*2-1))\n",
    "    else:\n",
    "        print(' '*(x-j+1),\"o\"*(j*2-1))\n",
    "\n"
   ]
  }
 ],
 "metadata": {
  "kernelspec": {
   "display_name": "Python 3",
   "language": "python",
   "name": "python3"
  },
  "language_info": {
   "codemirror_mode": {
    "name": "ipython",
    "version": 3
   },
   "file_extension": ".py",
   "mimetype": "text/x-python",
   "name": "python",
   "nbconvert_exporter": "python",
   "pygments_lexer": "ipython3",
   "version": "3.6.3"
  }
 },
 "nbformat": 4,
 "nbformat_minor": 2
}
