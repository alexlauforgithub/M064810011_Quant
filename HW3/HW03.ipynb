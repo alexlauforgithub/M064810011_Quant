{
 "cells": [
  {
   "cell_type": "code",
   "execution_count": 2,
   "metadata": {
    "collapsed": true
   },
   "outputs": [],
   "source": [
    "import requests\n",
    "from bs4 import BeautifulSoup"
   ]
  },
  {
   "cell_type": "code",
   "execution_count": 3,
   "metadata": {
    "collapsed": true
   },
   "outputs": [],
   "source": [
    "url='https://news.cnyes.com/news/id/3968572'"
   ]
  },
  {
   "cell_type": "markdown",
   "metadata": {},
   "source": [
    "### 用lxml作為解析器"
   ]
  },
  {
   "cell_type": "code",
   "execution_count": 4,
   "metadata": {
    "collapsed": true
   },
   "outputs": [],
   "source": [
    "r = requests.get(url)\n",
    "r.encoding = \"UTF-8\"\n",
    "soup = BeautifulSoup(r.text, \"lxml\") #"
   ]
  },
  {
   "cell_type": "markdown",
   "metadata": {},
   "source": [
    "### 用css選擇器找出新聞本體"
   ]
  },
  {
   "cell_type": "code",
   "execution_count": 5,
   "metadata": {
    "collapsed": true
   },
   "outputs": [],
   "source": [
    "news_text = soup.select('div[itemprop=\"articleBody\"]')[0].text"
   ]
  },
  {
   "cell_type": "markdown",
   "metadata": {},
   "source": [
    "### 用css選擇器找出標籤為p的第一行字，在鉅亨網通常為摘要"
   ]
  },
  {
   "cell_type": "code",
   "execution_count": 6,
   "metadata": {
    "collapsed": true
   },
   "outputs": [],
   "source": [
    "news_summary = soup.select(\"p\")[0].text "
   ]
  },
  {
   "cell_type": "code",
   "execution_count": 7,
   "metadata": {},
   "outputs": [],
   "source": [
    "import jieba\n",
    "import jieba.analyse"
   ]
  },
  {
   "cell_type": "markdown",
   "metadata": {},
   "source": [
    "### 調用繁體語料庫"
   ]
  },
  {
   "cell_type": "code",
   "execution_count": 8,
   "metadata": {
    "collapsed": true
   },
   "outputs": [],
   "source": [
    "jieba.set_dictionary('dict.txt.big')"
   ]
  },
  {
   "cell_type": "markdown",
   "metadata": {},
   "source": [
    "### 用TF-IDF 算法提取關鍵字"
   ]
  },
  {
   "cell_type": "code",
   "execution_count": 9,
   "metadata": {},
   "outputs": [
    {
     "name": "stderr",
     "output_type": "stream",
     "text": [
      "Building prefix dict from /Users/alex/Desktop/金融投資與程式交易/dict.txt.big ...\n",
      "Dumping model to file cache /var/folders/k0/h421384s6ts_mp8mmr3vwbpw0000gn/T/jieba.u044f9d83fe2815ce5d41ff365beef5ce.cache\n",
      "Loading model cost 1.599 seconds.\n",
      "Prefix dict has been built succesfully.\n"
     ]
    }
   ],
   "source": [
    "keywords = jieba.analyse.extract_tags(news_text, topK=10, withWeight=False)\n"
   ]
  },
  {
   "cell_type": "code",
   "execution_count": 10,
   "metadata": {},
   "outputs": [
    {
     "name": "stdout",
     "output_type": "stream",
     "text": [
      "統一/購物/企業/股東/億元/發放/純益/網路/購買/百分點\n"
     ]
    }
   ],
   "source": [
    "print(\"/\".join(keywords))"
   ]
  },
  {
   "cell_type": "markdown",
   "metadata": {},
   "source": [
    "### 用TextRank 算法提取關鍵字"
   ]
  },
  {
   "cell_type": "code",
   "execution_count": 25,
   "metadata": {},
   "outputs": [
    {
     "data": {
      "text/plain": [
       "\"[('台灣', 1.0), ('不能', 0.830825241436455), ('民眾', 0.7168353185381596), ('中心', 0.6274404646723648), ('表示', 0.6268168928487547), ('所收', 0.622454625833082), ('均是由', 0.6125359357433786), ('商品', 0.5838665349811494), ('通路', 0.5675619883025441), ('使用', 0.5647280579841181)]\""
      ]
     },
     "execution_count": 25,
     "metadata": {},
     "output_type": "execute_result"
    }
   ],
   "source": [
    "repr(jieba.analyse.textrank(news_text, topK=10, withWeight=True))"
   ]
  },
  {
   "cell_type": "code",
   "execution_count": 28,
   "metadata": {
    "collapsed": true
   },
   "outputs": [],
   "source": [
    "def index_of_keyword(sentences, keyword):\n",
    "    for i, s in enumerate(sentences):\n",
    "        if keyword in s:\n",
    "              return i\n",
    "    return -1"
   ]
  },
  {
   "cell_type": "code",
   "execution_count": 29,
   "metadata": {},
   "outputs": [
    {
     "data": {
      "text/plain": [
       "8"
      ]
     },
     "execution_count": 29,
     "metadata": {},
     "output_type": "execute_result"
    }
   ],
   "source": [
    "sentences = news_text.replace(\"\\n\",\"\").split(u\"。\")\n",
    "len(sentences)"
   ]
  },
  {
   "cell_type": "code",
   "execution_count": 30,
   "metadata": {},
   "outputs": [
    {
     "name": "stdout",
     "output_type": "stream",
     "text": [
      "統一企業 (1216-TW) 今年隨發放 2.1 元現金股利的股利通知書，加碼發送 1500 元網路購物金，這是統一上市以來首次發放購物金，統一企業董事長羅智先今 (17) 日指出，對於這類型股東的優惠活動，明年還要繼續做下去。\n",
      "統一企業今年在股利發放通知書上，加碼發出 1500 元的網路購物金，可用來購買統一旗下的 3 款保健食品。\n",
      "以統一股東人數約近 13 萬人計算，所發出的網路購物金總值上看 2 億元，這也是繼鴻海 (2317-TW) 集團發放網路購物金給股東之後，台灣另一大型上市企業發起針對股東的購物優惠活動。\n",
      "對於這項在統一企業成立 50 周年的優惠股東方案成效，羅智先今天表示，其所收的成效，依產品別而有所不同，不過，這樣的對股東提供購物優惠案，明年還會繼續辦下去。\n",
      "統一今年是首次發放購物金，以保健食品為主要購買的商品，此產品均是由統一營養保健中心開發，針對台灣民眾所研發的保健食品，購物金僅限在統一健康好時光網的「股東專區」購買商品，並不能在其他通路使用。\n",
      "統一企業第 3 季營收 1088.19 億元，毛利率 34.39%，季增 1.14 個百分點，年增 1.37 個百分點，稅後純益 57.13 億元，每股純益達 1.01 元，創新高。\n",
      "統一企業前 3 季營收 3050.37 億元，毛利率為 33.69%，較去年同期減少 0.26 個百分點，稅後純益 148.87 億元，每股純益達 2.62 元，統一企業前 3 季稅後純益，已超過去年全年 145.27 億元。\n",
      "統一日 K 線圖 。\n"
     ]
    }
   ],
   "source": [
    "for sentence in sentences:\n",
    "    print(sentence + u\"。\")"
   ]
  },
  {
   "cell_type": "code",
   "execution_count": 20,
   "metadata": {},
   "outputs": [
    {
     "name": "stdout",
     "output_type": "stream",
     "text": [
      "統一企業 (1216-TW) 今年隨發放 2.1 元現金股利的股利通知書，加碼發送 1500 元網路購物金，這是統一上市以來首次發放購物金，統一企業董事長羅智先今 (17) 日指出，對於這類型股東的優惠活動，明年還要繼續做下去。\n"
     ]
    }
   ],
   "source": [
    "print(sentences[index_of_keyword(sentences,u\"統一\")]+u\"。\")\n"
   ]
  },
  {
   "cell_type": "code",
   "execution_count": 21,
   "metadata": {
    "collapsed": true
   },
   "outputs": [],
   "source": [
    "s_index = []\n",
    "for keyword in keywords[:3]:\n",
    "    s_index.append(index_of_keyword(sentences,keyword))\n",
    "\n",
    "s_set = set(s_index)\n",
    "s_index = list(s_set)"
   ]
  },
  {
   "cell_type": "code",
   "execution_count": 22,
   "metadata": {
    "collapsed": true
   },
   "outputs": [],
   "source": [
    "summary = \"\"\n",
    "for i in s_index:\n",
    "    summary += sentences[i]+u\"。\""
   ]
  },
  {
   "cell_type": "markdown",
   "metadata": {},
   "source": [
    "### 印出關鍵字萃取的新聞句子"
   ]
  },
  {
   "cell_type": "code",
   "execution_count": 23,
   "metadata": {
    "scrolled": true
   },
   "outputs": [
    {
     "name": "stdout",
     "output_type": "stream",
     "text": [
      "統一企業 (1216-TW) 今年隨發放 2.1 元現金股利的股利通知書，加碼發送 1500 元網路購物金，這是統一上市以來首次發放購物金，統一企業董事長羅智先今 (17) 日指出，對於這類型股東的優惠活動，明年還要繼續做下去。\n"
     ]
    }
   ],
   "source": [
    "print(summary)"
   ]
  },
  {
   "cell_type": "markdown",
   "metadata": {},
   "source": [
    "### 印出人工找尋的關鍵句子"
   ]
  },
  {
   "cell_type": "code",
   "execution_count": 24,
   "metadata": {},
   "outputs": [
    {
     "name": "stdout",
     "output_type": "stream",
     "text": [
      "統一企業 (1216-TW) 今年隨發放 2.1 元現金股利的股利通知書，加碼發送 1500 元網路購物金，這是統一上市以來首次發放購物金，統一企業董事長羅智先今 (17) 日指出，對於這類型股東的優惠活動，明年還要繼續做下去。\n"
     ]
    }
   ],
   "source": [
    "print(news_summary)"
   ]
  }
 ],
 "metadata": {
  "kernelspec": {
   "display_name": "Python 3",
   "language": "python",
   "name": "python3"
  },
  "language_info": {
   "codemirror_mode": {
    "name": "ipython",
    "version": 3
   },
   "file_extension": ".py",
   "mimetype": "text/x-python",
   "name": "python",
   "nbconvert_exporter": "python",
   "pygments_lexer": "ipython3",
   "version": "3.6.3"
  }
 },
 "nbformat": 4,
 "nbformat_minor": 2
}
