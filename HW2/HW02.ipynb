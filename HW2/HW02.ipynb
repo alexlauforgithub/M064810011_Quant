{
 "cells": [
  {
   "cell_type": "code",
   "execution_count": 20,
   "metadata": {
    "collapsed": true
   },
   "outputs": [],
   "source": [
    "import os"
   ]
  },
  {
   "cell_type": "code",
   "execution_count": 39,
   "metadata": {},
   "outputs": [
    {
     "name": "stdout",
     "output_type": "stream",
     "text": [
      "Hello! World\n",
      "This is Alice's greeting\n",
      "This is Bob's greeting\n",
      "foo\n",
      "==========\n",
      "Current working directory is/Users/alex/Desktop\n",
      "I like to eat apples\n",
      "I like to eat orranges\n",
      "I like to eat cats\n",
      "Count to ten\n",
      "0\n",
      "1\n",
      "2\n",
      "3\n",
      "4\n",
      "5\n",
      "6\n",
      "7\n",
      "8\n",
      "9\n"
     ]
    }
   ],
   "source": [
    "def main(): #取名為main為方便用，而且自訂函數不用大括號，用四個空格縮排\n",
    "    \n",
    "    print(\"Hello! World\") #不用在句末加分號\n",
    "    \n",
    "    print(\"This is Alice's greeting\")\n",
    "    print('This is Bob\\'s greeting') \n",
    "    #單雙引號都可以變成字串類別，但是如果裡面要包單引號，用雙引號比較好（也可以用跳逸字元）\n",
    "    \n",
    "    foo(5,10) #輸入函數參數\n",
    "    \n",
    "    print('='*10) #印出10個等號\n",
    "    print('Current working directory is' + os.getcwd()) \n",
    "                                  #用加號連接字串  #調出目前工作目錄\n",
    "        \n",
    "    counter =0\n",
    "    counter +=1       #變數名稱要放在前面\n",
    "    \n",
    "    food=['apples','orranges','cats'] #list可以裝個不同資料類型的物件，包含list\n",
    "    \n",
    "    for i in food:\n",
    "        print('I like to eat' + \"\",i)\n",
    "    \n",
    "    print('Count to ten')\n",
    "    \n",
    "    for i in range(10):   #i會從food裡面依序取出物件\n",
    "        print(i)\n",
    "\n",
    "        \n",
    "def foo(para1,para2): #記得自訂函數後面要冒號\n",
    "    res=para1+para2\n",
    "    \n",
    "    #print(\"%s plus %s is equals to %s\") % (para1,para2,res) \n",
    "    #像c語言那樣內插字串，根據指定的格式將物件的值轉換為字串，並將它們插入到另一個字串\n",
    "    #但是這語法在python3不支援了ＱＱ\n",
    "    \n",
    "    '{0} plus {1} is equals to {2}'.format(para1,para2,res)\n",
    "    \n",
    "    if res < 50:\n",
    "        print ('foo')\n",
    "    \n",
    "    elif (res>=50) and ((para1==42) or (para2==24)): \n",
    "    #def for while if 之類的功能都要用分號結尾 \n",
    "        print('bar')\n",
    "        \n",
    "    else:\n",
    "        print('moo')\n",
    "        \n",
    "    return res #這是一個單行的註解\n",
    "\n",
    "    '''這樣就可以形成一個跨行字串，\n",
    "       但也可以是跨行註解'''\n",
    "    \n",
    "if __name__== '__main__':\n",
    "    main()\n",
    "\n",
    "#當程式碼沒有被當作模組載入，而是直接被執行，系統變數「__name__」就會被設定「__main__」\n",
    "\n",
    "#所以main()就會被執行\n",
    "\n",
    "    \n",
    "    "
   ]
  },
  {
   "cell_type": "code",
   "execution_count": 8,
   "metadata": {
    "collapsed": true
   },
   "outputs": [],
   "source": [
    "import os\n",
    "os.chdir('/Users/alex/Desktop/QF20170921-master/01_basics/HW01')\n",
    "import util"
   ]
  }
 ],
 "metadata": {
  "kernelspec": {
   "display_name": "Python 3",
   "language": "python",
   "name": "python3"
  },
  "language_info": {
   "codemirror_mode": {
    "name": "ipython",
    "version": 3
   },
   "file_extension": ".py",
   "mimetype": "text/x-python",
   "name": "python",
   "nbconvert_exporter": "python",
   "pygments_lexer": "ipython3",
   "version": "3.6.3"
  }
 },
 "nbformat": 4,
 "nbformat_minor": 2
}
